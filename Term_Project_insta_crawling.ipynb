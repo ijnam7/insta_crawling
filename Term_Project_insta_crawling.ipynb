{
 "cells": [
  {
   "cell_type": "code",
   "execution_count": null,
   "metadata": {},
   "outputs": [],
   "source": [
    "! pip install selenium"
   ]
  },
  {
   "cell_type": "code",
   "execution_count": null,
   "metadata": {},
   "outputs": [],
   "source": [
    "! pip install beautifulsoup4"
   ]
  },
  {
   "cell_type": "code",
   "execution_count": null,
   "metadata": {},
   "outputs": [],
   "source": [
    "!pip install openpyxl"
   ]
  },
  {
   "cell_type": "code",
   "execution_count": null,
   "metadata": {},
   "outputs": [],
   "source": [
    "pip install pandas"
   ]
  },
  {
   "attachments": {},
   "cell_type": "markdown",
   "metadata": {},
   "source": [
    "# 인스타그램 크롤링 과정"
   ]
  },
  {
   "cell_type": "code",
   "execution_count": null,
   "metadata": {},
   "outputs": [],
   "source": [
    "import time\n",
    "from selenium import webdriver\n",
    "from bs4 import BeautifulSoup\n",
    "from selenium.webdriver.common.by import By\n",
    "import re, unicodedata\n",
    "\n",
    "\n",
    "driver = webdriver.Chrome('./chromedriver.exe')\n",
    "url = 'https://www.instagram.com'\n",
    "driver.get(url)\n",
    "time.sleep(5)\n",
    "\n",
    "email = 'insta ID'\n",
    "input_id = driver.find_elements(By.CSS_SELECTOR, 'input')[0]\n",
    "input_id.clear()\n",
    "input_id.send_keys(email)\n",
    "\n",
    "\n",
    "password = 'insta PW'\n",
    "input_pw = driver.find_elements(By.CSS_SELECTOR, 'input')[1]\n",
    "input_pw.clear()\n",
    "input_pw.send_keys(password)\n",
    "input_pw.submit()\n",
    "\n",
    "time.sleep(5)\n",
    "\n",
    "def insta_search(word):           # 인스타그램 특정 해시태그 검색\n",
    "    url = 'https://www.instagram.com/explore/tags/' + word\n",
    "    return url \n",
    "\n",
    "url = insta_search('WORD')\n",
    "driver.get(url)\n",
    "time.sleep(5)\n",
    "\n",
    "\n",
    "\n",
    "\n",
    "def select_first(driver):          # 첫번째 게시물 선택 \n",
    "    time.sleep(5)\n",
    "    first=driver.find_elements(By.TAG_NAME,'div')[1]\n",
    "    time.sleep(5)\n",
    "    first.click()\n",
    "    time.sleep(5)\n",
    "\n",
    "select_first(driver)\n",
    "\n",
    "\n",
    "\n",
    "def get_content(driver):          # 본문,태그,날짜,좋아요 수집\n",
    "    html = driver.page_source\n",
    "    soup = BeautifulSoup(html, 'html.parser')\n",
    "\n",
    "    try:\n",
    "        content = soup.select('div._a9zs > h1')[0].text  \n",
    "        content = unicodedata.normalize('NFC', content)\n",
    "    except:\n",
    "        content = ' '\n",
    "    \n",
    "    tags = re.findall(r'#[^s#,\\\\]+',content)\n",
    "\n",
    "    date = soup.select('time._aaqe')[0]['datetime'][:10]\n",
    "    try:\n",
    "        like = soup.select('div >span > a > span')[0].text\n",
    "    except:\n",
    "        like = 0\n",
    "    \n",
    "    try:\n",
    "        place = soup.select('div._aacl._aacn._aacu._aacy._aada._aade')[0].text\n",
    "        place = unicodedata.normalize('NFC', place)\n",
    "    except:\n",
    "        place = ''\n",
    "    \n",
    "    data = [content, date, like, place, tags]\n",
    "    return data \n",
    "\n",
    "\n",
    "def move_next(driver):            # 다음 게시글 조회\n",
    "    time.sleep(2)\n",
    "    right = driver.find_element(By.TAG_NAME,'html')    \n",
    "    right.send_keys(Keys.ARROW_RIGHT)\n",
    "    time.sleep(2)\n",
    "\n",
    "\n",
    "results = [ ] \n",
    "\n",
    "target = 5\n",
    "for i in range(target):\n",
    "    try:\n",
    "        data = get_content(driver)\n",
    "        results.append(data)\n",
    "        move_next(driver)   \n",
    "    except:\n",
    "        time.sleep(2)\n",
    "        move_next(driver)\n",
    "    \n",
    "\n",
    "\n",
    "import pandas as pd               # xlsx 파일로 저장\n",
    "\n",
    "results_df = pd.DataFrame(results)\n",
    "results_df.columns = ['content', 'date', 'like', 'place', 'tags']\n",
    "results_df.to_excel('./insta_hotp_crawling.xlsx',index=False)\n",
    "\n",
    "\n"
   ]
  }
 ],
 "metadata": {
  "kernelspec": {
   "display_name": "Python 3",
   "language": "python",
   "name": "python3"
  },
  "language_info": {
   "codemirror_mode": {
    "name": "ipython",
    "version": 3
   },
   "file_extension": ".py",
   "mimetype": "text/x-python",
   "name": "python",
   "nbconvert_exporter": "python",
   "pygments_lexer": "ipython3",
   "version": "3.11.2"
  }
 },
 "nbformat": 4,
 "nbformat_minor": 4
}
