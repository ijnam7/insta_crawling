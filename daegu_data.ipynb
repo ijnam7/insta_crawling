{
 "cells": [
  {
   "cell_type": "code",
   "execution_count": null,
   "metadata": {},
   "outputs": [],
   "source": [
    "import pandas as pd\n",
    "restaurant_insta_df = pd.DataFrame([])\n",
    "\n",
    "folder = './'\n",
    "f_list = ['insta_동성로_crawling.xlsx', 'insta_이월드_crawling.xlsx','re_ca_crawling.xlsx']\n",
    "\n",
    "dfs = []  # 개별 DataFrame을 저장할 리스트\n",
    "\n",
    "for f_name in f_list:\n",
    "    f_path = folder + f_name\n",
    "    tmp = pd.read_excel(f_path)\n",
    "    print(tmp.head())\n",
    "    dfs.append(tmp)\n",
    "\n",
    "restaurant_insta_df = pd.concat(dfs, ignore_index=True)\n",
    "\n",
    "restaurant_insta_df.columns = ['content', 'date', 'like', 'place', 'tags']\n",
    "\n",
    "restaurant_insta_df.drop_duplicates(subset=['content'], inplace=True)\n",
    "\n",
    "restaurant_insta_df.to_excel('./daegu_crawling.xlsx', index=False)"
   ]
  },
  {
   "cell_type": "code",
   "execution_count": null,
   "metadata": {},
   "outputs": [],
   "source": [
    "import pandas as pd \n",
    "\n",
    "raw_total = pd.read_excel('./daegu_crawling.xlsx')\n",
    "\n",
    "tags_total = []\n",
    "\n",
    "for tags in raw_total['tags']:\n",
    "    # print(tags)\n",
    "    tags_list = tags[2:-2].split(\"', '\") #[' ~ '] 제외\n",
    "    for tag in tags_list:\n",
    "        tags_total.append(tag)"
   ]
  },
  {
   "cell_type": "code",
   "execution_count": null,
   "metadata": {},
   "outputs": [],
   "source": [
    "from collections import Counter\n",
    "\n",
    "tags_count = Counter(tags_total)\n"
   ]
  },
  {
   "cell_type": "code",
   "execution_count": null,
   "metadata": {},
   "outputs": [],
   "source": [
    "import pandas as pd\n",
    "\n",
    "# Excel 파일에서 데이터 읽어오기\n",
    "data = pd.read_excel('daegu_crawling.xlsx')\n",
    "\n",
    "# 'tags' 열의 데이터 추출\n",
    "tags = data['tags']\n",
    "\n",
    "# 특정 키워드를 포함하는 태그 필터링\n",
    "keyword = '동성로'  # 분류하고 싶은 키워드\n",
    "filtered_data = data[tags.str.contains(keyword)]\n",
    "\n",
    "# 동성로 데이터프레임 생성\n",
    "동성로_data = pd.DataFrame(filtered_data)\n",
    "\n",
    "# 동성로 데이터프레임 출력\n",
    "동성로_data\n"
   ]
  },
  {
   "cell_type": "code",
   "execution_count": null,
   "metadata": {},
   "outputs": [],
   "source": [
    "import pandas as pd\n",
    "\n",
    "# Excel 파일에서 데이터 읽어오기\n",
    "data = pd.read_excel('daegu_crawling.xlsx')\n",
    "\n",
    "# 'tags' 열의 데이터 추출\n",
    "tags = data['tags']\n",
    "\n",
    "# 동성로가 들어간 해시태그 갯수 카운팅\n",
    "keyword = '동성로'  # 동성로를 포함하는 해시태그\n",
    "count = sum(tags.str.contains(keyword))\n",
    "\n",
    "# 결과 출력\n",
    "print(f\"동성로가 들어간 해시태그 갯수: {count}\")"
   ]
  },
  {
   "cell_type": "code",
   "execution_count": null,
   "metadata": {},
   "outputs": [],
   "source": [
    "import pandas as pd\n",
    "\n",
    "# Excel 파일에서 데이터 읽어오기\n",
    "data = pd.read_excel('daegu_crawling.xlsx')\n",
    "\n",
    "# 'tags' 열의 데이터 추출\n",
    "tags = data['tags']\n",
    "\n",
    "# 특정 키워드를 포함하는 태그 필터링\n",
    "keyword = '수성못'  # 분류하고 싶은 키워드\n",
    "filtered_data = data[tags.str.contains(keyword)]\n",
    "\n",
    "# 동성로 데이터프레임 생성\n",
    "수성못_data = pd.DataFrame(filtered_data)\n",
    "\n",
    "# 동성로 데이터프레임 출력\n",
    "수성못_data"
   ]
  },
  {
   "cell_type": "code",
   "execution_count": null,
   "metadata": {},
   "outputs": [],
   "source": [
    "import pandas as pd\n",
    "\n",
    "# Excel 파일에서 데이터 읽어오기\n",
    "data = pd.read_excel('daegu_crawling.xlsx')\n",
    "\n",
    "# 'place' 열의 데이터 추출\n",
    "places = data['place']\n",
    "\n",
    "# 각 장소의 등장 횟수 카운팅\n",
    "place_counts = places.value_counts()\n",
    "\n",
    "# 카운팅 결과 출력\n",
    "print(place_counts)"
   ]
  }
 ],
 "metadata": {
  "language_info": {
   "name": "python"
  },
  "orig_nbformat": 4
 },
 "nbformat": 4,
 "nbformat_minor": 2
}
